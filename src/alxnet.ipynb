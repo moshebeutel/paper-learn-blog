{
 "cells": [
  {
   "cell_type": "code",
   "execution_count": 16,
   "id": "19ed1186-b664-48ed-92ed-6f31c666da11",
   "metadata": {},
   "outputs": [],
   "source": [
    "import tensorflow as tf\n",
    "from tensorflow import keras\n",
    "from tensorflow.keras import layers, activations, losses, metrics, optimizers\n",
    "import numpy as np"
   ]
  },
  {
   "cell_type": "code",
   "execution_count": 17,
   "id": "77d2db07-f09f-428b-ab55-ac6116a5812e",
   "metadata": {},
   "outputs": [
    {
     "name": "stdout",
     "output_type": "stream",
     "text": [
      "Model: \"model_1\"\n",
      "_________________________________________________________________\n",
      "Layer (type)                 Output Shape              Param #   \n",
      "=================================================================\n",
      "input_2 (InputLayer)         [(None, 32, 32, 3)]       0         \n",
      "_________________________________________________________________\n",
      "conv2d_4 (Conv2D)            (None, 28, 28, 256)       19456     \n",
      "_________________________________________________________________\n",
      "batch_normalization_1 (Batch (None, 28, 28, 256)       1024      \n",
      "_________________________________________________________________\n",
      "max_pooling2d_2 (MaxPooling2 (None, 14, 14, 256)       0         \n",
      "_________________________________________________________________\n",
      "conv2d_5 (Conv2D)            (None, 12, 12, 384)       885120    \n",
      "_________________________________________________________________\n",
      "conv2d_6 (Conv2D)            (None, 10, 10, 384)       1327488   \n",
      "_________________________________________________________________\n",
      "conv2d_7 (Conv2D)            (None, 8, 8, 256)         884992    \n",
      "_________________________________________________________________\n",
      "max_pooling2d_3 (MaxPooling2 (None, 3, 3, 256)         0         \n",
      "_________________________________________________________________\n",
      "flatten_1 (Flatten)          (None, 2304)              0         \n",
      "_________________________________________________________________\n",
      "dense_3 (Dense)              (None, 4096)              9441280   \n",
      "_________________________________________________________________\n",
      "dropout_2 (Dropout)          (None, 4096)              0         \n",
      "_________________________________________________________________\n",
      "dense_4 (Dense)              (None, 4096)              16781312  \n",
      "_________________________________________________________________\n",
      "dropout_3 (Dropout)          (None, 4096)              0         \n",
      "_________________________________________________________________\n",
      "dense_5 (Dense)              (None, 100)               409700    \n",
      "=================================================================\n",
      "Total params: 29,750,372\n",
      "Trainable params: 29,749,860\n",
      "Non-trainable params: 512\n",
      "_________________________________________________________________\n"
     ]
    }
   ],
   "source": [
    "def create_model(input_shape=(224,224,3), num_of_classes = 1000):\n",
    "    inputs = tf.keras.Input(shape=input_shape)\n",
    "    x = inputs\n",
    "    if input_shape[0] > 200:\n",
    "        x = layers.Conv2D(96, 11, strides=(4,4), activation=\"relu\")(x)\n",
    "        x = layers.BatchNormalization()(x)\n",
    "        x = layers.MaxPooling2D(pool_size=(3,3), strides=(2,2), padding='same')(x)\n",
    "    x = layers.Conv2D(256, 5, activation=\"relu\")(x)\n",
    "    x = layers.BatchNormalization()(x)\n",
    "    x = layers.MaxPooling2D(pool_size=(3,3), strides=(2,2), padding='same')(x)\n",
    "    x = layers.Conv2D(384, 3, activation=\"relu\")(x)\n",
    "    x = layers.Conv2D(384, 3, activation=\"relu\")(x)\n",
    "    x = layers.Conv2D(256, 3, activation=\"relu\")(x)\n",
    "    x = layers.MaxPooling2D(pool_size=(3,3), strides=(2,2))(x)\n",
    "    x = layers.Flatten()(x)\n",
    "    x = layers.Dense(4096, activation='relu')(x)\n",
    "    x = layers.Dropout(0.5)(x)\n",
    "    x = layers.Dense(4096, activation='relu')(x)\n",
    "    x = layers.Dropout(0.5)(x)\n",
    "    predictions = layers.Dense(num_of_classes, activation='softmax')(x)\n",
    "    model = tf.keras.Model(inputs=inputs, outputs=predictions)\n",
    "    return model\n",
    "\n",
    "# model = create_model((224,224,3)) # for imagenet\n",
    "model = create_model((32,32,3), 100) # for cifar100\n",
    "model.summary()"
   ]
  },
  {
   "cell_type": "code",
   "execution_count": 18,
   "id": "aee9a59c-b2b3-4291-b491-fd0399338e14",
   "metadata": {},
   "outputs": [],
   "source": [
    "model.compile(\n",
    "#     loss=keras.losses.SparseCategoricalCrossentropy(from_logits=False),\n",
    "    loss = keras.losses.CategoricalCrossentropy(from_logits=False),\n",
    "    optimizer = keras.optimizers.SGD(learning_rate=0.01, momentum=0.9),\n",
    "    metrics=[\"accuracy\"],\n",
    ")\n"
   ]
  },
  {
   "cell_type": "code",
   "execution_count": 19,
   "id": "a592a183-e112-42da-b102-8e64d7427c26",
   "metadata": {},
   "outputs": [
    {
     "data": {
      "text/plain": [
       "((50000, 32, 32, 3), (50000, 100), (10000, 32, 32, 3), (10000, 100))"
      ]
     },
     "execution_count": 19,
     "metadata": {},
     "output_type": "execute_result"
    }
   ],
   "source": [
    "import tensorflow_datasets as tfds\n",
    "import cv2\n",
    "from tensorflow.python.keras.utils.np_utils import to_categorical\n",
    "from sklearn.model_selection import train_test_split\n",
    "# class Globals:\n",
    "#     IMAGENET_DATA_DIR = '../../../AIACADEMY/lesson_16/data_imagenet_v2'\n",
    "\n",
    "# dataset_test_raw,test_info = tfds.load('imagenet_v2', download=True,\n",
    "#                                   data_dir = Globals.IMAGENET_DATA_DIR,\n",
    "#                                   split='test[50%:]',shuffle_files=True,\n",
    "#                                   as_supervised=True,with_info=True)\n",
    "\n",
    "# def dataset_take_to_xy_np_arrays(ds):\n",
    "#     images, labels = [], []\n",
    "#     for image, label in ds:\n",
    "#         image = cv2.resize(tfds.as_numpy(image), (224,224), interpolation = cv2.INTER_AREA)\n",
    "#         image = tf.cast(image, tf.float32)\n",
    "# #         image = image[np.newaxis, :]\n",
    "#         images.append(image)\n",
    "#         label = to_categorical(label, num_classes=1000)\n",
    "#         labels.append(label)\n",
    "#     return np.array(images), np.array(labels)\n",
    "\n",
    "\n",
    "# X, y = dataset_take_to_xy_np_arrays(dataset_test_raw.take(-1))\n",
    "\n",
    "# x_train, x_test, y_train, y_test = train_test_split( X, y, test_size=0.1, random_state=42)\n",
    "(x_train, y_train), (x_test, y_test) = keras.datasets.cifar100.load_data()\n",
    "\n",
    "y_train = to_categorical(y_train, num_classes=100)\n",
    "y_test = to_categorical(y_test, num_classes=100)\n",
    "\n",
    "\n",
    "x_train.shape, y_train.shape, x_test.shape, y_test.shape\n"
   ]
  },
  {
   "cell_type": "code",
   "execution_count": 20,
   "id": "9f7e2731-2a03-4324-aada-3442846a4f99",
   "metadata": {},
   "outputs": [],
   "source": [
    "datagen = keras.preprocessing.image.ImageDataGenerator(\n",
    "    featurewise_center=True,\n",
    "    featurewise_std_normalization=True,\n",
    "    rotation_range=20,\n",
    "    width_shift_range=0.4,\n",
    "    height_shift_range=0.4,\n",
    "    vertical_flip=True,\n",
    "    horizontal_flip=True,\n",
    "    validation_split=0.2)\n",
    "# compute quantities required for featurewise normalization\n",
    "# (std, mean, and principal components if ZCA whitening is applied)\n",
    "datagen.fit(x_train)\n"
   ]
  },
  {
   "cell_type": "code",
   "execution_count": null,
   "id": "a7f90d68-e402-4cae-80cb-b2e417129a86",
   "metadata": {},
   "outputs": [
    {
     "name": "stdout",
     "output_type": "stream",
     "text": [
      "Epoch 1/20\n",
      "313/313 [==============================] - 34s 108ms/step - loss: 4.3864 - accuracy: 0.0364 - val_loss: 4.2202 - val_accuracy: 0.0594\n",
      "Epoch 2/20\n",
      "313/313 [==============================] - 33s 106ms/step - loss: 4.1514 - accuracy: 0.0604 - val_loss: 4.0216 - val_accuracy: 0.0772\n",
      "Epoch 3/20\n",
      "313/313 [==============================] - 33s 107ms/step - loss: 4.0383 - accuracy: 0.0800 - val_loss: 3.9375 - val_accuracy: 0.0894\n",
      "Epoch 4/20\n",
      "313/313 [==============================] - 33s 107ms/step - loss: 3.9357 - accuracy: 0.0925 - val_loss: 3.8430 - val_accuracy: 0.1065\n",
      "Epoch 5/20\n",
      "313/313 [==============================] - 34s 108ms/step - loss: 3.8563 - accuracy: 0.1028 - val_loss: 3.7877 - val_accuracy: 0.1150\n",
      "Epoch 6/20\n",
      "313/313 [==============================] - 33s 106ms/step - loss: 3.7898 - accuracy: 0.1160 - val_loss: 3.6860 - val_accuracy: 0.1353\n",
      "Epoch 7/20\n",
      "313/313 [==============================] - 33s 106ms/step - loss: 3.7203 - accuracy: 0.1255 - val_loss: 3.6613 - val_accuracy: 0.1334\n",
      "Epoch 8/20\n",
      "313/313 [==============================] - 33s 106ms/step - loss: 3.6608 - accuracy: 0.1364 - val_loss: 3.5967 - val_accuracy: 0.1477\n",
      "Epoch 9/20\n",
      "313/313 [==============================] - 33s 105ms/step - loss: 3.6073 - accuracy: 0.1455 - val_loss: 3.5070 - val_accuracy: 0.1606\n",
      "Epoch 10/20\n",
      "313/313 [==============================] - 33s 105ms/step - loss: 3.5571 - accuracy: 0.1562 - val_loss: 3.4764 - val_accuracy: 0.1738\n",
      "Epoch 11/20\n",
      "313/313 [==============================] - 33s 106ms/step - loss: 3.5096 - accuracy: 0.1614 - val_loss: 3.4998 - val_accuracy: 0.1637\n",
      "Epoch 12/20\n",
      "313/313 [==============================] - 33s 105ms/step - loss: 3.4579 - accuracy: 0.1724 - val_loss: 3.3833 - val_accuracy: 0.1863\n",
      "Epoch 13/20\n",
      "313/313 [==============================] - 33s 105ms/step - loss: 3.4198 - accuracy: 0.1770 - val_loss: 3.3601 - val_accuracy: 0.1970\n"
     ]
    }
   ],
   "source": [
    "# history = model.fit(x_train, y_train, batch_size=128, epochs=100, validation_split=0.3)\n",
    "\n",
    "# fits the model on batches with real-time data augmentation:\n",
    "history = model.fit(datagen.flow(x_train, y_train, batch_size=128,\n",
    "         subset='training'),\n",
    "         validation_data=datagen.flow(x_train, y_train, batch_size=32, subset='validation'),\n",
    "         epochs=20)\n",
    "\n",
    "test_scores = model.evaluate(x_test, y_test)\n",
    "print(\"Test loss:\", test_scores[0])\n",
    "print(\"Test accuracy:\", test_scores[1])# summarize history for accuracy"
   ]
  },
  {
   "cell_type": "code",
   "execution_count": null,
   "id": "c7de90fa-c1b0-4fa0-97cc-0f8048fd9cc5",
   "metadata": {},
   "outputs": [],
   "source": [
    "import matplotlib.pyplot as plt\n",
    "plt.plot(history.history['accuracy'])\n",
    "plt.plot(history.history['val_accuracy'])\n",
    "plt.title('model accuracy')\n",
    "plt.ylabel('accuracy')\n",
    "plt.xlabel('epoch')\n",
    "plt.legend(['train', 'test'], loc='upper left')\n",
    "plt.show()\n",
    "# summarize history for loss\n",
    "plt.plot(history.history['loss'])\n",
    "plt.plot(history.history['val_loss'])\n",
    "plt.title('model loss')\n",
    "plt.ylabel('loss')\n",
    "plt.xlabel('epoch')\n",
    "plt.legend(['train', 'test'], loc='upper left')\n",
    "plt.show()"
   ]
  }
 ],
 "metadata": {
  "kernelspec": {
   "display_name": "Python 3",
   "language": "python",
   "name": "python3"
  },
  "language_info": {
   "codemirror_mode": {
    "name": "ipython",
    "version": 3
   },
   "file_extension": ".py",
   "mimetype": "text/x-python",
   "name": "python",
   "nbconvert_exporter": "python",
   "pygments_lexer": "ipython3",
   "version": "3.8.8"
  }
 },
 "nbformat": 4,
 "nbformat_minor": 5
}

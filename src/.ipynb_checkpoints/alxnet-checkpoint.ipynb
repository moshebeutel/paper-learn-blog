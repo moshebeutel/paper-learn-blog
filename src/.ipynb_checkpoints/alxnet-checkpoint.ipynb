{
 "cells": [
  {
   "cell_type": "code",
   "execution_count": 1,
   "id": "19ed1186-b664-48ed-92ed-6f31c666da11",
   "metadata": {},
   "outputs": [],
   "source": [
    "import tensorflow as tf\n",
    "from tensorflow import keras\n",
    "from tensorflow.keras import layers, activations, losses, metrics, optimizers\n",
    "import numpy as np"
   ]
  },
  {
   "cell_type": "code",
   "execution_count": 2,
   "id": "77d2db07-f09f-428b-ab55-ac6116a5812e",
   "metadata": {},
   "outputs": [
    {
     "name": "stdout",
     "output_type": "stream",
     "text": [
      "Model: \"model\"\n",
      "_________________________________________________________________\n",
      "Layer (type)                 Output Shape              Param #   \n",
      "=================================================================\n",
      "input_1 (InputLayer)         [(None, 32, 32, 3)]       0         \n",
      "_________________________________________________________________\n",
      "conv2d (Conv2D)              (None, 28, 28, 256)       19456     \n",
      "_________________________________________________________________\n",
      "batch_normalization (BatchNo (None, 28, 28, 256)       1024      \n",
      "_________________________________________________________________\n",
      "max_pooling2d (MaxPooling2D) (None, 14, 14, 256)       0         \n",
      "_________________________________________________________________\n",
      "conv2d_1 (Conv2D)            (None, 12, 12, 384)       885120    \n",
      "_________________________________________________________________\n",
      "conv2d_2 (Conv2D)            (None, 10, 10, 384)       1327488   \n",
      "_________________________________________________________________\n",
      "conv2d_3 (Conv2D)            (None, 8, 8, 256)         884992    \n",
      "_________________________________________________________________\n",
      "max_pooling2d_1 (MaxPooling2 (None, 3, 3, 256)         0         \n",
      "_________________________________________________________________\n",
      "flatten (Flatten)            (None, 2304)              0         \n",
      "_________________________________________________________________\n",
      "dense (Dense)                (None, 4096)              9441280   \n",
      "_________________________________________________________________\n",
      "dropout (Dropout)            (None, 4096)              0         \n",
      "_________________________________________________________________\n",
      "dense_1 (Dense)              (None, 4096)              16781312  \n",
      "_________________________________________________________________\n",
      "dropout_1 (Dropout)          (None, 4096)              0         \n",
      "_________________________________________________________________\n",
      "dense_2 (Dense)              (None, 100)               409700    \n",
      "=================================================================\n",
      "Total params: 29,750,372\n",
      "Trainable params: 29,749,860\n",
      "Non-trainable params: 512\n",
      "_________________________________________________________________\n"
     ]
    }
   ],
   "source": [
    "def create_model(input_shape=(224,224,3), num_of_classes = 1000):\n",
    "    inputs = tf.keras.Input(shape=input_shape)\n",
    "    x = inputs\n",
    "    if input_shape[0] > 200:  \n",
    "        # The following layer is the original AlexNet first conv layer. \n",
    "        # Removed since we are dealing with cifar100 which is 32X32X3.\n",
    "        # Alexnet is designed for imagenet which is 224X224X3\n",
    "        x = layers.Conv2D(96, 11, strides=(4,4), activation=\"relu\")(x)\n",
    "        x = layers.BatchNormalization()(x)\n",
    "        x = layers.MaxPooling2D(pool_size=(3,3), strides=(2,2), padding='same')(x)\n",
    "    x = layers.Conv2D(256, 5, activation=\"relu\")(x)\n",
    "    x = layers.BatchNormalization()(x)\n",
    "    x = layers.MaxPooling2D(pool_size=(3,3), strides=(2,2), padding='same')(x)\n",
    "    x = layers.Conv2D(384, 3, activation=\"relu\")(x)\n",
    "    x = layers.Conv2D(384, 3, activation=\"relu\")(x)\n",
    "    x = layers.Conv2D(256, 3, activation=\"relu\")(x)\n",
    "    x = layers.MaxPooling2D(pool_size=(3,3), strides=(2,2))(x)\n",
    "    x = layers.Flatten()(x)\n",
    "    x = layers.Dense(4096, activation='relu')(x)\n",
    "    x = layers.Dropout(0.5)(x)\n",
    "    x = layers.Dense(4096, activation='relu')(x)\n",
    "    x = layers.Dropout(0.5)(x)\n",
    "    predictions = layers.Dense(num_of_classes, activation='softmax')(x)\n",
    "    model = tf.keras.Model(inputs=inputs, outputs=predictions)\n",
    "    return model\n",
    "\n",
    "# model = create_model((224,224,3)) # for imagenet\n",
    "model = create_model((32,32,3), 100) # for cifar100\n",
    "model.summary()"
   ]
  },
  {
   "cell_type": "code",
   "execution_count": 3,
   "id": "6a9a520f-38d6-4d2f-b10d-1d787af5538e",
   "metadata": {},
   "outputs": [],
   "source": [
    "import tensorflow_addons as tfa\n",
    "\n",
    "# step = tf.Variable(0, trainable=False)\n",
    "# schedule = tf.optimizers.schedules.PiecewiseConstantDecay(\n",
    "#     [10000, 15000], [1e-0, 1e-1, 1e-2])\n",
    "# lr and wd can be a function or a tensor\n",
    "# lr = 1e-1 * schedule(step)\n",
    "# wd = lambda: 5e-4 * schedule(step)\n",
    "\n",
    "lr=0.01\n",
    "momentum=0.9\n",
    "wd=5e-4\n",
    "\n",
    "optimizer = tfa.optimizers.SGDW(learning_rate=lr, weight_decay=wd, momentum=momentum)\n",
    "# optimizer = tf.optimizers.SGD(learning_rate=lr, momentum=momentum)\n"
   ]
  },
  {
   "cell_type": "code",
   "execution_count": 4,
   "id": "aee9a59c-b2b3-4291-b491-fd0399338e14",
   "metadata": {},
   "outputs": [],
   "source": [
    "model.compile(\n",
    "#     loss=keras.losses.SparseCategoricalCrossentropy(from_logits=False),\n",
    "    loss = keras.losses.CategoricalCrossentropy(from_logits=False),\n",
    "    optimizer = optimizer,\n",
    "    metrics=[\"accuracy\"],\n",
    ")\n"
   ]
  },
  {
   "cell_type": "code",
   "execution_count": 5,
   "id": "a592a183-e112-42da-b102-8e64d7427c26",
   "metadata": {},
   "outputs": [
    {
     "data": {
      "text/plain": [
       "((50000, 32, 32, 3), (50000, 100), (10000, 32, 32, 3), (10000, 100))"
      ]
     },
     "execution_count": 5,
     "metadata": {},
     "output_type": "execute_result"
    }
   ],
   "source": [
    "from tensorflow.python.keras.utils.np_utils import to_categorical\n",
    "\n",
    "(x_train, y_train), (x_test, y_test) = keras.datasets.cifar100.load_data()\n",
    "\n",
    "y_train = to_categorical(y_train, num_classes=100)\n",
    "y_test = to_categorical(y_test, num_classes=100)\n",
    "\n",
    "x_train.shape, y_train.shape, x_test.shape, y_test.shape"
   ]
  },
  {
   "cell_type": "code",
   "execution_count": 6,
   "id": "9f7e2731-2a03-4324-aada-3442846a4f99",
   "metadata": {},
   "outputs": [],
   "source": [
    "# datagen = keras.preprocessing.image.ImageDataGenerator(\n",
    "#     featurewise_center=True,\n",
    "#     featurewise_std_normalization=True,\n",
    "#     rotation_range=20,\n",
    "#     width_shift_range=0.4,\n",
    "#     height_shift_range=0.4,\n",
    "#     vertical_flip=True,\n",
    "#     horizontal_flip=True,\n",
    "#     validation_split=0.2)\n",
    "# compute quantities required for featurewise normalization\n",
    "# (std, mean, and principal components if ZCA whitening is applied)\n",
    "# datagen.fit(x_train)\n"
   ]
  },
  {
   "cell_type": "code",
   "execution_count": 7,
   "id": "a7f90d68-e402-4cae-80cb-b2e417129a86",
   "metadata": {},
   "outputs": [
    {
     "name": "stdout",
     "output_type": "stream",
     "text": [
      "Epoch 1/100\n",
      "274/274 [==============================] - 19s 59ms/step - loss: 4.2625 - accuracy: 0.0530 - val_loss: 3.8394 - val_accuracy: 0.1123\n",
      "Epoch 2/100\n",
      "274/274 [==============================] - 15s 55ms/step - loss: 3.7566 - accuracy: 0.1236 - val_loss: 3.8476 - val_accuracy: 0.1144\n",
      "Epoch 3/100\n",
      "274/274 [==============================] - 15s 55ms/step - loss: 3.4563 - accuracy: 0.1703 - val_loss: 3.5396 - val_accuracy: 0.1657\n",
      "Epoch 4/100\n",
      "274/274 [==============================] - 15s 55ms/step - loss: 3.2479 - accuracy: 0.2051 - val_loss: 3.2791 - val_accuracy: 0.2141\n",
      "Epoch 5/100\n",
      "274/274 [==============================] - 15s 54ms/step - loss: 3.0791 - accuracy: 0.2414 - val_loss: 3.4139 - val_accuracy: 0.1762\n",
      "Epoch 6/100\n",
      "274/274 [==============================] - 15s 55ms/step - loss: 2.9541 - accuracy: 0.2618 - val_loss: 3.0713 - val_accuracy: 0.2448\n",
      "Epoch 7/100\n",
      "274/274 [==============================] - 15s 54ms/step - loss: 2.8401 - accuracy: 0.2836 - val_loss: 3.1406 - val_accuracy: 0.2339\n",
      "Epoch 8/100\n",
      "274/274 [==============================] - 15s 55ms/step - loss: 2.7401 - accuracy: 0.3036 - val_loss: 3.1982 - val_accuracy: 0.2246\n",
      "Epoch 9/100\n",
      "274/274 [==============================] - 15s 55ms/step - loss: 2.6547 - accuracy: 0.3247 - val_loss: 2.7686 - val_accuracy: 0.3045\n",
      "Epoch 10/100\n",
      "274/274 [==============================] - 15s 56ms/step - loss: 2.5793 - accuracy: 0.3310 - val_loss: 3.5214 - val_accuracy: 0.2013\n",
      "Epoch 11/100\n",
      "274/274 [==============================] - 15s 55ms/step - loss: 2.5062 - accuracy: 0.3488 - val_loss: 3.3202 - val_accuracy: 0.2328\n",
      "Epoch 12/100\n",
      "274/274 [==============================] - 15s 53ms/step - loss: 2.4521 - accuracy: 0.3593 - val_loss: 2.6511 - val_accuracy: 0.3363\n",
      "Epoch 13/100\n",
      "274/274 [==============================] - 15s 54ms/step - loss: 2.3783 - accuracy: 0.3787 - val_loss: 2.8014 - val_accuracy: 0.2983\n",
      "Epoch 14/100\n",
      "274/274 [==============================] - 15s 54ms/step - loss: 2.3248 - accuracy: 0.3863 - val_loss: 4.1468 - val_accuracy: 0.1575\n",
      "Epoch 15/100\n",
      "274/274 [==============================] - 15s 55ms/step - loss: 2.2878 - accuracy: 0.3951 - val_loss: 2.8562 - val_accuracy: 0.2905\n",
      "Epoch 16/100\n",
      "274/274 [==============================] - 15s 54ms/step - loss: 2.2328 - accuracy: 0.4095 - val_loss: 3.2045 - val_accuracy: 0.2571\n",
      "Epoch 17/100\n",
      "274/274 [==============================] - 15s 54ms/step - loss: 2.1911 - accuracy: 0.4206 - val_loss: 2.8469 - val_accuracy: 0.2927\n",
      "Epoch 18/100\n",
      "274/274 [==============================] - 15s 55ms/step - loss: 2.1443 - accuracy: 0.4273 - val_loss: 2.6960 - val_accuracy: 0.3347\n",
      "Epoch 19/100\n",
      "274/274 [==============================] - 15s 55ms/step - loss: 2.1034 - accuracy: 0.4360 - val_loss: 2.7230 - val_accuracy: 0.3398\n",
      "Epoch 20/100\n",
      "274/274 [==============================] - 16s 57ms/step - loss: 2.0634 - accuracy: 0.4459 - val_loss: 2.8779 - val_accuracy: 0.3040\n",
      "Epoch 21/100\n",
      "274/274 [==============================] - 15s 57ms/step - loss: 2.0189 - accuracy: 0.4541 - val_loss: 2.7838 - val_accuracy: 0.3086\n",
      "Epoch 22/100\n",
      "274/274 [==============================] - 15s 55ms/step - loss: 2.0018 - accuracy: 0.4578 - val_loss: 2.4038 - val_accuracy: 0.3895\n",
      "Epoch 23/100\n",
      "274/274 [==============================] - 15s 54ms/step - loss: 1.9719 - accuracy: 0.4664 - val_loss: 2.6189 - val_accuracy: 0.3417\n",
      "Epoch 24/100\n",
      "274/274 [==============================] - 15s 54ms/step - loss: 1.9048 - accuracy: 0.4798 - val_loss: 2.6175 - val_accuracy: 0.3451\n",
      "Epoch 25/100\n",
      "274/274 [==============================] - 15s 54ms/step - loss: 1.8708 - accuracy: 0.4882 - val_loss: 3.6878 - val_accuracy: 0.2038\n",
      "Epoch 26/100\n",
      "274/274 [==============================] - 15s 54ms/step - loss: 1.8463 - accuracy: 0.4963 - val_loss: 2.5520 - val_accuracy: 0.3521\n",
      "Epoch 27/100\n",
      "274/274 [==============================] - 15s 54ms/step - loss: 1.8070 - accuracy: 0.5034 - val_loss: 2.8971 - val_accuracy: 0.2923\n",
      "Epoch 28/100\n",
      "274/274 [==============================] - 15s 54ms/step - loss: 1.7742 - accuracy: 0.5105 - val_loss: 2.4261 - val_accuracy: 0.3840\n",
      "Epoch 29/100\n",
      "274/274 [==============================] - 15s 54ms/step - loss: 1.7419 - accuracy: 0.5211 - val_loss: 2.8457 - val_accuracy: 0.3103\n",
      "Epoch 30/100\n",
      "274/274 [==============================] - 15s 54ms/step - loss: 1.7086 - accuracy: 0.5279 - val_loss: 2.4432 - val_accuracy: 0.3829\n",
      "Epoch 31/100\n",
      "274/274 [==============================] - 15s 54ms/step - loss: 1.6871 - accuracy: 0.5347 - val_loss: 2.7444 - val_accuracy: 0.3414\n",
      "Epoch 32/100\n",
      "274/274 [==============================] - 15s 54ms/step - loss: 1.6551 - accuracy: 0.5394 - val_loss: 2.5809 - val_accuracy: 0.3572\n",
      "Epoch 33/100\n",
      "274/274 [==============================] - 15s 54ms/step - loss: 1.6264 - accuracy: 0.5441 - val_loss: 2.3432 - val_accuracy: 0.4111\n",
      "Epoch 34/100\n",
      "274/274 [==============================] - 15s 54ms/step - loss: 1.5907 - accuracy: 0.5534 - val_loss: 2.5106 - val_accuracy: 0.3719\n",
      "Epoch 35/100\n",
      "274/274 [==============================] - 15s 54ms/step - loss: 1.5615 - accuracy: 0.5598 - val_loss: 2.6312 - val_accuracy: 0.3468\n",
      "Epoch 36/100\n",
      "274/274 [==============================] - 15s 54ms/step - loss: 1.5192 - accuracy: 0.5748 - val_loss: 2.8037 - val_accuracy: 0.3349\n",
      "Epoch 37/100\n",
      "274/274 [==============================] - 15s 54ms/step - loss: 1.5121 - accuracy: 0.5734 - val_loss: 2.5508 - val_accuracy: 0.3659\n",
      "Epoch 38/100\n",
      "274/274 [==============================] - 15s 54ms/step - loss: 1.4623 - accuracy: 0.5850 - val_loss: 2.7573 - val_accuracy: 0.3421\n",
      "Epoch 39/100\n",
      "274/274 [==============================] - 15s 56ms/step - loss: 1.4406 - accuracy: 0.5929 - val_loss: 2.4175 - val_accuracy: 0.3984\n",
      "Epoch 40/100\n",
      "274/274 [==============================] - 15s 56ms/step - loss: 1.4035 - accuracy: 0.6011 - val_loss: 2.6975 - val_accuracy: 0.3577\n",
      "Epoch 41/100\n",
      "274/274 [==============================] - 15s 56ms/step - loss: 1.3750 - accuracy: 0.6092 - val_loss: 3.2878 - val_accuracy: 0.2555\n",
      "Epoch 42/100\n",
      "206/274 [=====================>........] - ETA: 3s - loss: 1.3403 - accuracy: 0.6143"
     ]
    },
    {
     "ename": "KeyboardInterrupt",
     "evalue": "",
     "output_type": "error",
     "traceback": [
      "\u001b[0;31m---------------------------------------------------------------------------\u001b[0m",
      "\u001b[0;31mKeyboardInterrupt\u001b[0m                         Traceback (most recent call last)",
      "\u001b[0;32m<ipython-input-7-8861308c755f>\u001b[0m in \u001b[0;36m<module>\u001b[0;34m\u001b[0m\n\u001b[0;32m----> 1\u001b[0;31m \u001b[0mhistory\u001b[0m \u001b[0;34m=\u001b[0m \u001b[0mmodel\u001b[0m\u001b[0;34m.\u001b[0m\u001b[0mfit\u001b[0m\u001b[0;34m(\u001b[0m\u001b[0mx_train\u001b[0m\u001b[0;34m,\u001b[0m \u001b[0my_train\u001b[0m\u001b[0;34m,\u001b[0m \u001b[0mbatch_size\u001b[0m\u001b[0;34m=\u001b[0m\u001b[0;36m128\u001b[0m\u001b[0;34m,\u001b[0m \u001b[0mepochs\u001b[0m\u001b[0;34m=\u001b[0m\u001b[0;36m100\u001b[0m\u001b[0;34m,\u001b[0m \u001b[0mvalidation_split\u001b[0m\u001b[0;34m=\u001b[0m\u001b[0;36m0.3\u001b[0m\u001b[0;34m)\u001b[0m\u001b[0;34m\u001b[0m\u001b[0;34m\u001b[0m\u001b[0m\n\u001b[0m\u001b[1;32m      2\u001b[0m \u001b[0;34m\u001b[0m\u001b[0m\n\u001b[1;32m      3\u001b[0m \u001b[0;31m# fits the model on batches with real-time data augmentation:\u001b[0m\u001b[0;34m\u001b[0m\u001b[0;34m\u001b[0m\u001b[0;34m\u001b[0m\u001b[0m\n\u001b[1;32m      4\u001b[0m \u001b[0;31m# history = model.fit(datagen.flow(x_train, y_train, batch_size=128,\u001b[0m\u001b[0;34m\u001b[0m\u001b[0;34m\u001b[0m\u001b[0;34m\u001b[0m\u001b[0m\n\u001b[1;32m      5\u001b[0m \u001b[0;31m#          subset='training'),\u001b[0m\u001b[0;34m\u001b[0m\u001b[0;34m\u001b[0m\u001b[0;34m\u001b[0m\u001b[0m\n",
      "\u001b[0;32m~/anaconda3/lib/python3.8/site-packages/tensorflow/python/keras/engine/training.py\u001b[0m in \u001b[0;36mfit\u001b[0;34m(self, x, y, batch_size, epochs, verbose, callbacks, validation_split, validation_data, shuffle, class_weight, sample_weight, initial_epoch, steps_per_epoch, validation_steps, validation_batch_size, validation_freq, max_queue_size, workers, use_multiprocessing)\u001b[0m\n\u001b[1;32m   1181\u001b[0m                 _r=1):\n\u001b[1;32m   1182\u001b[0m               \u001b[0mcallbacks\u001b[0m\u001b[0;34m.\u001b[0m\u001b[0mon_train_batch_begin\u001b[0m\u001b[0;34m(\u001b[0m\u001b[0mstep\u001b[0m\u001b[0;34m)\u001b[0m\u001b[0;34m\u001b[0m\u001b[0;34m\u001b[0m\u001b[0m\n\u001b[0;32m-> 1183\u001b[0;31m               \u001b[0mtmp_logs\u001b[0m \u001b[0;34m=\u001b[0m \u001b[0mself\u001b[0m\u001b[0;34m.\u001b[0m\u001b[0mtrain_function\u001b[0m\u001b[0;34m(\u001b[0m\u001b[0miterator\u001b[0m\u001b[0;34m)\u001b[0m\u001b[0;34m\u001b[0m\u001b[0;34m\u001b[0m\u001b[0m\n\u001b[0m\u001b[1;32m   1184\u001b[0m               \u001b[0;32mif\u001b[0m \u001b[0mdata_handler\u001b[0m\u001b[0;34m.\u001b[0m\u001b[0mshould_sync\u001b[0m\u001b[0;34m:\u001b[0m\u001b[0;34m\u001b[0m\u001b[0;34m\u001b[0m\u001b[0m\n\u001b[1;32m   1185\u001b[0m                 \u001b[0mcontext\u001b[0m\u001b[0;34m.\u001b[0m\u001b[0masync_wait\u001b[0m\u001b[0;34m(\u001b[0m\u001b[0;34m)\u001b[0m\u001b[0;34m\u001b[0m\u001b[0;34m\u001b[0m\u001b[0m\n",
      "\u001b[0;32m~/anaconda3/lib/python3.8/site-packages/tensorflow/python/eager/def_function.py\u001b[0m in \u001b[0;36m__call__\u001b[0;34m(self, *args, **kwds)\u001b[0m\n\u001b[1;32m    887\u001b[0m \u001b[0;34m\u001b[0m\u001b[0m\n\u001b[1;32m    888\u001b[0m       \u001b[0;32mwith\u001b[0m \u001b[0mOptionalXlaContext\u001b[0m\u001b[0;34m(\u001b[0m\u001b[0mself\u001b[0m\u001b[0;34m.\u001b[0m\u001b[0m_jit_compile\u001b[0m\u001b[0;34m)\u001b[0m\u001b[0;34m:\u001b[0m\u001b[0;34m\u001b[0m\u001b[0;34m\u001b[0m\u001b[0m\n\u001b[0;32m--> 889\u001b[0;31m         \u001b[0mresult\u001b[0m \u001b[0;34m=\u001b[0m \u001b[0mself\u001b[0m\u001b[0;34m.\u001b[0m\u001b[0m_call\u001b[0m\u001b[0;34m(\u001b[0m\u001b[0;34m*\u001b[0m\u001b[0margs\u001b[0m\u001b[0;34m,\u001b[0m \u001b[0;34m**\u001b[0m\u001b[0mkwds\u001b[0m\u001b[0;34m)\u001b[0m\u001b[0;34m\u001b[0m\u001b[0;34m\u001b[0m\u001b[0m\n\u001b[0m\u001b[1;32m    890\u001b[0m \u001b[0;34m\u001b[0m\u001b[0m\n\u001b[1;32m    891\u001b[0m       \u001b[0mnew_tracing_count\u001b[0m \u001b[0;34m=\u001b[0m \u001b[0mself\u001b[0m\u001b[0;34m.\u001b[0m\u001b[0mexperimental_get_tracing_count\u001b[0m\u001b[0;34m(\u001b[0m\u001b[0;34m)\u001b[0m\u001b[0;34m\u001b[0m\u001b[0;34m\u001b[0m\u001b[0m\n",
      "\u001b[0;32m~/anaconda3/lib/python3.8/site-packages/tensorflow/python/eager/def_function.py\u001b[0m in \u001b[0;36m_call\u001b[0;34m(self, *args, **kwds)\u001b[0m\n\u001b[1;32m    915\u001b[0m       \u001b[0;31m# In this case we have created variables on the first call, so we run the\u001b[0m\u001b[0;34m\u001b[0m\u001b[0;34m\u001b[0m\u001b[0;34m\u001b[0m\u001b[0m\n\u001b[1;32m    916\u001b[0m       \u001b[0;31m# defunned version which is guaranteed to never create variables.\u001b[0m\u001b[0;34m\u001b[0m\u001b[0;34m\u001b[0m\u001b[0;34m\u001b[0m\u001b[0m\n\u001b[0;32m--> 917\u001b[0;31m       \u001b[0;32mreturn\u001b[0m \u001b[0mself\u001b[0m\u001b[0;34m.\u001b[0m\u001b[0m_stateless_fn\u001b[0m\u001b[0;34m(\u001b[0m\u001b[0;34m*\u001b[0m\u001b[0margs\u001b[0m\u001b[0;34m,\u001b[0m \u001b[0;34m**\u001b[0m\u001b[0mkwds\u001b[0m\u001b[0;34m)\u001b[0m  \u001b[0;31m# pylint: disable=not-callable\u001b[0m\u001b[0;34m\u001b[0m\u001b[0;34m\u001b[0m\u001b[0m\n\u001b[0m\u001b[1;32m    918\u001b[0m     \u001b[0;32melif\u001b[0m \u001b[0mself\u001b[0m\u001b[0;34m.\u001b[0m\u001b[0m_stateful_fn\u001b[0m \u001b[0;32mis\u001b[0m \u001b[0;32mnot\u001b[0m \u001b[0;32mNone\u001b[0m\u001b[0;34m:\u001b[0m\u001b[0;34m\u001b[0m\u001b[0;34m\u001b[0m\u001b[0m\n\u001b[1;32m    919\u001b[0m       \u001b[0;31m# Release the lock early so that multiple threads can perform the call\u001b[0m\u001b[0;34m\u001b[0m\u001b[0;34m\u001b[0m\u001b[0;34m\u001b[0m\u001b[0m\n",
      "\u001b[0;32m~/anaconda3/lib/python3.8/site-packages/tensorflow/python/eager/function.py\u001b[0m in \u001b[0;36m__call__\u001b[0;34m(self, *args, **kwargs)\u001b[0m\n\u001b[1;32m   3021\u001b[0m       (graph_function,\n\u001b[1;32m   3022\u001b[0m        filtered_flat_args) = self._maybe_define_function(args, kwargs)\n\u001b[0;32m-> 3023\u001b[0;31m     return graph_function._call_flat(\n\u001b[0m\u001b[1;32m   3024\u001b[0m         filtered_flat_args, captured_inputs=graph_function.captured_inputs)  # pylint: disable=protected-access\n\u001b[1;32m   3025\u001b[0m \u001b[0;34m\u001b[0m\u001b[0m\n",
      "\u001b[0;32m~/anaconda3/lib/python3.8/site-packages/tensorflow/python/eager/function.py\u001b[0m in \u001b[0;36m_call_flat\u001b[0;34m(self, args, captured_inputs, cancellation_manager)\u001b[0m\n\u001b[1;32m   1958\u001b[0m         and executing_eagerly):\n\u001b[1;32m   1959\u001b[0m       \u001b[0;31m# No tape is watching; skip to running the function.\u001b[0m\u001b[0;34m\u001b[0m\u001b[0;34m\u001b[0m\u001b[0;34m\u001b[0m\u001b[0m\n\u001b[0;32m-> 1960\u001b[0;31m       return self._build_call_outputs(self._inference_function.call(\n\u001b[0m\u001b[1;32m   1961\u001b[0m           ctx, args, cancellation_manager=cancellation_manager))\n\u001b[1;32m   1962\u001b[0m     forward_backward = self._select_forward_and_backward_functions(\n",
      "\u001b[0;32m~/anaconda3/lib/python3.8/site-packages/tensorflow/python/eager/function.py\u001b[0m in \u001b[0;36mcall\u001b[0;34m(self, ctx, args, cancellation_manager)\u001b[0m\n\u001b[1;32m    589\u001b[0m       \u001b[0;32mwith\u001b[0m \u001b[0m_InterpolateFunctionError\u001b[0m\u001b[0;34m(\u001b[0m\u001b[0mself\u001b[0m\u001b[0;34m)\u001b[0m\u001b[0;34m:\u001b[0m\u001b[0;34m\u001b[0m\u001b[0;34m\u001b[0m\u001b[0m\n\u001b[1;32m    590\u001b[0m         \u001b[0;32mif\u001b[0m \u001b[0mcancellation_manager\u001b[0m \u001b[0;32mis\u001b[0m \u001b[0;32mNone\u001b[0m\u001b[0;34m:\u001b[0m\u001b[0;34m\u001b[0m\u001b[0;34m\u001b[0m\u001b[0m\n\u001b[0;32m--> 591\u001b[0;31m           outputs = execute.execute(\n\u001b[0m\u001b[1;32m    592\u001b[0m               \u001b[0mstr\u001b[0m\u001b[0;34m(\u001b[0m\u001b[0mself\u001b[0m\u001b[0;34m.\u001b[0m\u001b[0msignature\u001b[0m\u001b[0;34m.\u001b[0m\u001b[0mname\u001b[0m\u001b[0;34m)\u001b[0m\u001b[0;34m,\u001b[0m\u001b[0;34m\u001b[0m\u001b[0;34m\u001b[0m\u001b[0m\n\u001b[1;32m    593\u001b[0m               \u001b[0mnum_outputs\u001b[0m\u001b[0;34m=\u001b[0m\u001b[0mself\u001b[0m\u001b[0;34m.\u001b[0m\u001b[0m_num_outputs\u001b[0m\u001b[0;34m,\u001b[0m\u001b[0;34m\u001b[0m\u001b[0;34m\u001b[0m\u001b[0m\n",
      "\u001b[0;32m~/anaconda3/lib/python3.8/site-packages/tensorflow/python/eager/execute.py\u001b[0m in \u001b[0;36mquick_execute\u001b[0;34m(op_name, num_outputs, inputs, attrs, ctx, name)\u001b[0m\n\u001b[1;32m     57\u001b[0m   \u001b[0;32mtry\u001b[0m\u001b[0;34m:\u001b[0m\u001b[0;34m\u001b[0m\u001b[0;34m\u001b[0m\u001b[0m\n\u001b[1;32m     58\u001b[0m     \u001b[0mctx\u001b[0m\u001b[0;34m.\u001b[0m\u001b[0mensure_initialized\u001b[0m\u001b[0;34m(\u001b[0m\u001b[0;34m)\u001b[0m\u001b[0;34m\u001b[0m\u001b[0;34m\u001b[0m\u001b[0m\n\u001b[0;32m---> 59\u001b[0;31m     tensors = pywrap_tfe.TFE_Py_Execute(ctx._handle, device_name, op_name,\n\u001b[0m\u001b[1;32m     60\u001b[0m                                         inputs, attrs, num_outputs)\n\u001b[1;32m     61\u001b[0m   \u001b[0;32mexcept\u001b[0m \u001b[0mcore\u001b[0m\u001b[0;34m.\u001b[0m\u001b[0m_NotOkStatusException\u001b[0m \u001b[0;32mas\u001b[0m \u001b[0me\u001b[0m\u001b[0;34m:\u001b[0m\u001b[0;34m\u001b[0m\u001b[0;34m\u001b[0m\u001b[0m\n",
      "\u001b[0;31mKeyboardInterrupt\u001b[0m: "
     ]
    }
   ],
   "source": [
    "history = model.fit(x_train, y_train, batch_size=128, epochs=100, validation_split=0.3)\n",
    "\n",
    "# fits the model on batches with real-time data augmentation:\n",
    "# history = model.fit(datagen.flow(x_train, y_train, batch_size=128,\n",
    "#          subset='training'),\n",
    "#          validation_data=datagen.flow(x_train, y_train, batch_size=32, subset='validation'),\n",
    "#          epochs=20)\n",
    "\n",
    "test_scores = model.evaluate(x_test, y_test)\n",
    "print(\"Test loss:\", test_scores[0])\n",
    "print(\"Test accuracy:\", test_scores[1])# summarize history for accuracy"
   ]
  },
  {
   "cell_type": "code",
   "execution_count": 8,
   "id": "c7de90fa-c1b0-4fa0-97cc-0f8048fd9cc5",
   "metadata": {},
   "outputs": [
    {
     "ename": "NameError",
     "evalue": "name 'history' is not defined",
     "output_type": "error",
     "traceback": [
      "\u001b[0;31m---------------------------------------------------------------------------\u001b[0m",
      "\u001b[0;31mNameError\u001b[0m                                 Traceback (most recent call last)",
      "\u001b[0;32m<ipython-input-8-6b5184eb3125>\u001b[0m in \u001b[0;36m<module>\u001b[0;34m\u001b[0m\n\u001b[1;32m      1\u001b[0m \u001b[0;32mimport\u001b[0m \u001b[0mmatplotlib\u001b[0m\u001b[0;34m.\u001b[0m\u001b[0mpyplot\u001b[0m \u001b[0;32mas\u001b[0m \u001b[0mplt\u001b[0m\u001b[0;34m\u001b[0m\u001b[0;34m\u001b[0m\u001b[0m\n\u001b[0;32m----> 2\u001b[0;31m \u001b[0mplt\u001b[0m\u001b[0;34m.\u001b[0m\u001b[0mplot\u001b[0m\u001b[0;34m(\u001b[0m\u001b[0mhistory\u001b[0m\u001b[0;34m.\u001b[0m\u001b[0mhistory\u001b[0m\u001b[0;34m[\u001b[0m\u001b[0;34m'accuracy'\u001b[0m\u001b[0;34m]\u001b[0m\u001b[0;34m)\u001b[0m\u001b[0;34m\u001b[0m\u001b[0;34m\u001b[0m\u001b[0m\n\u001b[0m\u001b[1;32m      3\u001b[0m \u001b[0mplt\u001b[0m\u001b[0;34m.\u001b[0m\u001b[0mplot\u001b[0m\u001b[0;34m(\u001b[0m\u001b[0mhistory\u001b[0m\u001b[0;34m.\u001b[0m\u001b[0mhistory\u001b[0m\u001b[0;34m[\u001b[0m\u001b[0;34m'val_accuracy'\u001b[0m\u001b[0;34m]\u001b[0m\u001b[0;34m)\u001b[0m\u001b[0;34m\u001b[0m\u001b[0;34m\u001b[0m\u001b[0m\n\u001b[1;32m      4\u001b[0m \u001b[0mplt\u001b[0m\u001b[0;34m.\u001b[0m\u001b[0mtitle\u001b[0m\u001b[0;34m(\u001b[0m\u001b[0;34m'model accuracy'\u001b[0m\u001b[0;34m)\u001b[0m\u001b[0;34m\u001b[0m\u001b[0;34m\u001b[0m\u001b[0m\n\u001b[1;32m      5\u001b[0m \u001b[0mplt\u001b[0m\u001b[0;34m.\u001b[0m\u001b[0mylabel\u001b[0m\u001b[0;34m(\u001b[0m\u001b[0;34m'accuracy'\u001b[0m\u001b[0;34m)\u001b[0m\u001b[0;34m\u001b[0m\u001b[0;34m\u001b[0m\u001b[0m\n",
      "\u001b[0;31mNameError\u001b[0m: name 'history' is not defined"
     ]
    }
   ],
   "source": [
    "import matplotlib.pyplot as plt\n",
    "plt.plot(history.history['accuracy'])\n",
    "plt.plot(history.history['val_accuracy'])\n",
    "plt.title('model accuracy')\n",
    "plt.ylabel('accuracy')\n",
    "plt.xlabel('epoch')\n",
    "plt.legend(['train', 'test'], loc='upper left')\n",
    "plt.show()\n",
    "# summarize history for loss\n",
    "plt.plot(history.history['loss'])\n",
    "plt.plot(history.history['val_loss'])\n",
    "plt.title('model loss')\n",
    "plt.ylabel('loss')\n",
    "plt.xlabel('epoch')\n",
    "plt.legend(['train', 'test'], loc='upper left')\n",
    "plt.show()"
   ]
  }
 ],
 "metadata": {
  "kernelspec": {
   "display_name": "Python 3",
   "language": "python",
   "name": "python3"
  },
  "language_info": {
   "codemirror_mode": {
    "name": "ipython",
    "version": 3
   },
   "file_extension": ".py",
   "mimetype": "text/x-python",
   "name": "python",
   "nbconvert_exporter": "python",
   "pygments_lexer": "ipython3",
   "version": "3.8.8"
  }
 },
 "nbformat": 4,
 "nbformat_minor": 5
}

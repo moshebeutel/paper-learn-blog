{
 "cells": [
  {
   "cell_type": "markdown",
   "id": "c58a4ca5-41ad-4ea0-95c9-756e609497bc",
   "metadata": {},
   "source": [
    "# \"Revisiting AlexNet\"\n",
    "> \"Awesome summary of the novel paper that started the deep learning big bang\"\n",
    "\n",
    "- toc: true\n",
    "- branch: master\n",
    "- badges: true\n",
    "- comments: true\n",
    "- categories: [fastpages, jupyter]\n",
    "- image: images/chef_bepita.jpg\n",
    "- hide: false\n",
    "- search_exclude: true\n",
    "- metadata_key1: metadata_value1\n",
    "- metadata_key2: metadata_value2\n"
   ]
  },
  {
   "cell_type": "markdown",
   "id": "ed37d1ed-7cbd-4617-b6a9-4b70923464f3",
   "metadata": {},
   "source": [
    "## header2"
   ]
  },
  {
   "cell_type": "markdown",
   "id": "4d4e4a6b-8a09-4537-bf23-eec0b0fa8f60",
   "metadata": {},
   "source": [
    "### header3"
   ]
  },
  {
   "cell_type": "markdown",
   "id": "92ba3ec5-8e35-4a29-b451-c4101491475a",
   "metadata": {},
   "source": [
    "## Bibiliography"
   ]
  }
 ],
 "metadata": {
  "kernelspec": {
   "display_name": "Python 3",
   "language": "python",
   "name": "python3"
  },
  "language_info": {
   "codemirror_mode": {
    "name": "ipython",
    "version": 3
   },
   "file_extension": ".py",
   "mimetype": "text/x-python",
   "name": "python",
   "nbconvert_exporter": "python",
   "pygments_lexer": "ipython3",
   "version": "3.8.8"
  }
 },
 "nbformat": 4,
 "nbformat_minor": 5
}
